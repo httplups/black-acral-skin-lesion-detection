{
 "cells": [
  {
   "cell_type": "code",
   "execution_count": 13,
   "metadata": {},
   "outputs": [],
   "source": [
    "import pandas as pd\n",
    "import shutil\n",
    "import os\n",
    "import numpy as np"
   ]
  },
  {
   "cell_type": "code",
   "execution_count": 14,
   "metadata": {},
   "outputs": [],
   "source": [
    "SOURCE_DATA_PATH = '../datasets/raw/dermis/'\n",
    "DESTINATION_DATASET_PATH='../datasets/processed/dermis/'"
   ]
  },
  {
   "cell_type": "code",
   "execution_count": 15,
   "metadata": {},
   "outputs": [],
   "source": [
    "if not os.path.exists(DESTINATION_DATASET_PATH):\n",
    "\n",
    "    # if the demo_folder directory is not present\n",
    "    # then create it\n",
    "    os.makedirs(DESTINATION_DATASET_PATH, exist_ok=True)\n",
    "\n",
    "if not os.path.exists(DESTINATION_DATASET_PATH + 'melanoma'):\n",
    "\n",
    "    # if the demo_folder directory is not present\n",
    "    # then create it\n",
    "    os.makedirs(DESTINATION_DATASET_PATH + 'melanoma', exist_ok=True)\n",
    "\n",
    "if not os.path.exists(DESTINATION_DATASET_PATH + 'benign'):\n",
    "\n",
    "    # if the demo_folder directory is not present\n",
    "    # then create it\n",
    "    os.makedirs(DESTINATION_DATASET_PATH + 'benign', exist_ok=True)"
   ]
  },
  {
   "attachments": {},
   "cell_type": "markdown",
   "metadata": {},
   "source": [
    "EDA"
   ]
  },
  {
   "cell_type": "code",
   "execution_count": 16,
   "metadata": {},
   "outputs": [
    {
     "data": {
      "text/html": [
       "<div>\n",
       "<style scoped>\n",
       "    .dataframe tbody tr th:only-of-type {\n",
       "        vertical-align: middle;\n",
       "    }\n",
       "\n",
       "    .dataframe tbody tr th {\n",
       "        vertical-align: top;\n",
       "    }\n",
       "\n",
       "    .dataframe thead th {\n",
       "        text-align: right;\n",
       "    }\n",
       "</style>\n",
       "<table border=\"1\" class=\"dataframe\">\n",
       "  <thead>\n",
       "    <tr style=\"text-align: right;\">\n",
       "      <th></th>\n",
       "      <th>id</th>\n",
       "      <th>lesion_filename</th>\n",
       "      <th>location</th>\n",
       "      <th>diagnostic</th>\n",
       "      <th>label</th>\n",
       "      <th>is_dermoscopic</th>\n",
       "    </tr>\n",
       "  </thead>\n",
       "  <tbody>\n",
       "    <tr>\n",
       "      <th>0</th>\n",
       "      <td>1</td>\n",
       "      <td>foot-img0082_mel.jpg</td>\n",
       "      <td>foot</td>\n",
       "      <td>melanoma</td>\n",
       "      <td>1</td>\n",
       "      <td>0</td>\n",
       "    </tr>\n",
       "    <tr>\n",
       "      <th>1</th>\n",
       "      <td>2</td>\n",
       "      <td>foot-img0120.jpg</td>\n",
       "      <td>foot</td>\n",
       "      <td>melanoma</td>\n",
       "      <td>1</td>\n",
       "      <td>0</td>\n",
       "    </tr>\n",
       "    <tr>\n",
       "      <th>2</th>\n",
       "      <td>3</td>\n",
       "      <td>foot-img0019.jpg</td>\n",
       "      <td>foot</td>\n",
       "      <td>melanoma</td>\n",
       "      <td>1</td>\n",
       "      <td>0</td>\n",
       "    </tr>\n",
       "    <tr>\n",
       "      <th>3</th>\n",
       "      <td>4</td>\n",
       "      <td>foot-img0072.jpg</td>\n",
       "      <td>foot</td>\n",
       "      <td>melanoma</td>\n",
       "      <td>1</td>\n",
       "      <td>0</td>\n",
       "    </tr>\n",
       "    <tr>\n",
       "      <th>4</th>\n",
       "      <td>5</td>\n",
       "      <td>foot-img0037.jpg</td>\n",
       "      <td>foot</td>\n",
       "      <td>melanoma</td>\n",
       "      <td>1</td>\n",
       "      <td>0</td>\n",
       "    </tr>\n",
       "    <tr>\n",
       "      <th>5</th>\n",
       "      <td>6</td>\n",
       "      <td>finger-melanoma-img0090.jpg</td>\n",
       "      <td>finger</td>\n",
       "      <td>melanoma</td>\n",
       "      <td>1</td>\n",
       "      <td>0</td>\n",
       "    </tr>\n",
       "    <tr>\n",
       "      <th>6</th>\n",
       "      <td>7</td>\n",
       "      <td>foot-img0022.jpg</td>\n",
       "      <td>foot</td>\n",
       "      <td>melanoma</td>\n",
       "      <td>1</td>\n",
       "      <td>0</td>\n",
       "    </tr>\n",
       "    <tr>\n",
       "      <th>7</th>\n",
       "      <td>8</td>\n",
       "      <td>foot-img0034.jpg</td>\n",
       "      <td>foot</td>\n",
       "      <td>melanoma</td>\n",
       "      <td>1</td>\n",
       "      <td>0</td>\n",
       "    </tr>\n",
       "    <tr>\n",
       "      <th>8</th>\n",
       "      <td>9</td>\n",
       "      <td>finger-melanoma-img0034.jpg</td>\n",
       "      <td>finger</td>\n",
       "      <td>melanoma</td>\n",
       "      <td>1</td>\n",
       "      <td>0</td>\n",
       "    </tr>\n",
       "    <tr>\n",
       "      <th>9</th>\n",
       "      <td>10</td>\n",
       "      <td>foot-Acrolentigo Melanoma (ALM)-img0021.jpg</td>\n",
       "      <td>foot</td>\n",
       "      <td>melanoma</td>\n",
       "      <td>1</td>\n",
       "      <td>0</td>\n",
       "    </tr>\n",
       "    <tr>\n",
       "      <th>10</th>\n",
       "      <td>11</td>\n",
       "      <td>foot-img0035.jpg</td>\n",
       "      <td>foot</td>\n",
       "      <td>melanoma</td>\n",
       "      <td>1</td>\n",
       "      <td>0</td>\n",
       "    </tr>\n",
       "    <tr>\n",
       "      <th>11</th>\n",
       "      <td>12</td>\n",
       "      <td>foot-img0081.jpg</td>\n",
       "      <td>foot</td>\n",
       "      <td>linfangioma</td>\n",
       "      <td>0</td>\n",
       "      <td>0</td>\n",
       "    </tr>\n",
       "    <tr>\n",
       "      <th>12</th>\n",
       "      <td>13</td>\n",
       "      <td>foot-img0082.jpg</td>\n",
       "      <td>foot</td>\n",
       "      <td>linfangioma</td>\n",
       "      <td>0</td>\n",
       "      <td>0</td>\n",
       "    </tr>\n",
       "  </tbody>\n",
       "</table>\n",
       "</div>"
      ],
      "text/plain": [
       "    id                              lesion_filename location   diagnostic  \\\n",
       "0    1                         foot-img0082_mel.jpg     foot     melanoma   \n",
       "1    2                             foot-img0120.jpg     foot     melanoma   \n",
       "2    3                             foot-img0019.jpg     foot     melanoma   \n",
       "3    4                             foot-img0072.jpg     foot     melanoma   \n",
       "4    5                             foot-img0037.jpg     foot     melanoma   \n",
       "5    6                  finger-melanoma-img0090.jpg   finger     melanoma   \n",
       "6    7                             foot-img0022.jpg     foot     melanoma   \n",
       "7    8                             foot-img0034.jpg     foot     melanoma   \n",
       "8    9                  finger-melanoma-img0034.jpg   finger     melanoma   \n",
       "9   10  foot-Acrolentigo Melanoma (ALM)-img0021.jpg     foot     melanoma   \n",
       "10  11                             foot-img0035.jpg     foot     melanoma   \n",
       "11  12                             foot-img0081.jpg     foot  linfangioma   \n",
       "12  13                             foot-img0082.jpg     foot  linfangioma   \n",
       "\n",
       "    label  is_dermoscopic  \n",
       "0       1               0  \n",
       "1       1               0  \n",
       "2       1               0  \n",
       "3       1               0  \n",
       "4       1               0  \n",
       "5       1               0  \n",
       "6       1               0  \n",
       "7       1               0  \n",
       "8       1               0  \n",
       "9       1               0  \n",
       "10      1               0  \n",
       "11      0               0  \n",
       "12      0               0  "
      ]
     },
     "execution_count": 16,
     "metadata": {},
     "output_type": "execute_result"
    }
   ],
   "source": [
    "df = pd.read_csv(SOURCE_DATA_PATH + 'meta.csv')\n",
    "df"
   ]
  },
  {
   "cell_type": "code",
   "execution_count": 17,
   "metadata": {},
   "outputs": [
    {
     "data": {
      "text/plain": [
       "Index(['id', 'lesion_filename', 'location', 'diagnostic', 'label',\n",
       "       'is_dermoscopic'],\n",
       "      dtype='object')"
      ]
     },
     "execution_count": 17,
     "metadata": {},
     "output_type": "execute_result"
    }
   ],
   "source": [
    "df.columns"
   ]
  },
  {
   "cell_type": "code",
   "execution_count": 18,
   "metadata": {},
   "outputs": [
    {
     "data": {
      "text/plain": [
       "array(['foot', 'finger'], dtype=object)"
      ]
     },
     "execution_count": 18,
     "metadata": {},
     "output_type": "execute_result"
    }
   ],
   "source": [
    "df.location.unique()"
   ]
  },
  {
   "cell_type": "code",
   "execution_count": 19,
   "metadata": {},
   "outputs": [],
   "source": [
    "mel_imgs = df.loc[df.label == 1, 'lesion_filename'].values\n",
    "benign_imgs = df.loc[df.label == 0, 'lesion_filename'].values"
   ]
  },
  {
   "cell_type": "code",
   "execution_count": null,
   "metadata": {},
   "outputs": [],
   "source": []
  },
  {
   "attachments": {},
   "cell_type": "markdown",
   "metadata": {},
   "source": [
    "Moving filtered data"
   ]
  },
  {
   "cell_type": "code",
   "execution_count": 20,
   "metadata": {},
   "outputs": [],
   "source": [
    "for img_path in benign_imgs:\n",
    "    shutil.copy(SOURCE_DATA_PATH + 'images/'+img_path, DESTINATION_DATASET_PATH + 'benign/')\n",
    "\n",
    "for img_path in mel_imgs:\n",
    "    shutil.copy(SOURCE_DATA_PATH + 'images/'+img_path, DESTINATION_DATASET_PATH + 'melanoma/')"
   ]
  },
  {
   "cell_type": "code",
   "execution_count": 21,
   "metadata": {},
   "outputs": [],
   "source": [
    "df['lesion_filename'] = df['lesion_filename'].apply(lambda x: DESTINATION_DATASET_PATH[3:] + '{}/'.format('melanoma' if x in mel_imgs else 'benign') + x)"
   ]
  },
  {
   "cell_type": "code",
   "execution_count": 22,
   "metadata": {},
   "outputs": [],
   "source": [
    "# save metadata\n",
    "df.to_csv(DESTINATION_DATASET_PATH + 'metadata.csv', index=False)"
   ]
  },
  {
   "cell_type": "code",
   "execution_count": 23,
   "metadata": {},
   "outputs": [
    {
     "data": {
      "text/html": [
       "<div>\n",
       "<style scoped>\n",
       "    .dataframe tbody tr th:only-of-type {\n",
       "        vertical-align: middle;\n",
       "    }\n",
       "\n",
       "    .dataframe tbody tr th {\n",
       "        vertical-align: top;\n",
       "    }\n",
       "\n",
       "    .dataframe thead th {\n",
       "        text-align: right;\n",
       "    }\n",
       "</style>\n",
       "<table border=\"1\" class=\"dataframe\">\n",
       "  <thead>\n",
       "    <tr style=\"text-align: right;\">\n",
       "      <th></th>\n",
       "      <th>id</th>\n",
       "      <th>lesion_filename</th>\n",
       "      <th>location</th>\n",
       "      <th>diagnostic</th>\n",
       "      <th>label</th>\n",
       "      <th>is_dermoscopic</th>\n",
       "    </tr>\n",
       "  </thead>\n",
       "  <tbody>\n",
       "    <tr>\n",
       "      <th>0</th>\n",
       "      <td>1</td>\n",
       "      <td>datasets/processed/dermis/melanomafoot-img0082...</td>\n",
       "      <td>foot</td>\n",
       "      <td>melanoma</td>\n",
       "      <td>1</td>\n",
       "      <td>0</td>\n",
       "    </tr>\n",
       "    <tr>\n",
       "      <th>1</th>\n",
       "      <td>2</td>\n",
       "      <td>datasets/processed/dermis/melanomafoot-img0120...</td>\n",
       "      <td>foot</td>\n",
       "      <td>melanoma</td>\n",
       "      <td>1</td>\n",
       "      <td>0</td>\n",
       "    </tr>\n",
       "    <tr>\n",
       "      <th>2</th>\n",
       "      <td>3</td>\n",
       "      <td>datasets/processed/dermis/melanomafoot-img0019...</td>\n",
       "      <td>foot</td>\n",
       "      <td>melanoma</td>\n",
       "      <td>1</td>\n",
       "      <td>0</td>\n",
       "    </tr>\n",
       "    <tr>\n",
       "      <th>3</th>\n",
       "      <td>4</td>\n",
       "      <td>datasets/processed/dermis/melanomafoot-img0072...</td>\n",
       "      <td>foot</td>\n",
       "      <td>melanoma</td>\n",
       "      <td>1</td>\n",
       "      <td>0</td>\n",
       "    </tr>\n",
       "    <tr>\n",
       "      <th>4</th>\n",
       "      <td>5</td>\n",
       "      <td>datasets/processed/dermis/melanomafoot-img0037...</td>\n",
       "      <td>foot</td>\n",
       "      <td>melanoma</td>\n",
       "      <td>1</td>\n",
       "      <td>0</td>\n",
       "    </tr>\n",
       "  </tbody>\n",
       "</table>\n",
       "</div>"
      ],
      "text/plain": [
       "   id                                    lesion_filename location diagnostic  \\\n",
       "0   1  datasets/processed/dermis/melanomafoot-img0082...     foot   melanoma   \n",
       "1   2  datasets/processed/dermis/melanomafoot-img0120...     foot   melanoma   \n",
       "2   3  datasets/processed/dermis/melanomafoot-img0019...     foot   melanoma   \n",
       "3   4  datasets/processed/dermis/melanomafoot-img0072...     foot   melanoma   \n",
       "4   5  datasets/processed/dermis/melanomafoot-img0037...     foot   melanoma   \n",
       "\n",
       "   label  is_dermoscopic  \n",
       "0      1               0  \n",
       "1      1               0  \n",
       "2      1               0  \n",
       "3      1               0  \n",
       "4      1               0  "
      ]
     },
     "execution_count": 23,
     "metadata": {},
     "output_type": "execute_result"
    }
   ],
   "source": [
    "df.head()"
   ]
  },
  {
   "cell_type": "code",
   "execution_count": null,
   "metadata": {},
   "outputs": [],
   "source": []
  }
 ],
 "metadata": {
  "kernelspec": {
   "display_name": "Python 3 (ipykernel)",
   "language": "python",
   "name": "python3"
  },
  "language_info": {
   "codemirror_mode": {
    "name": "ipython",
    "version": 3
   },
   "file_extension": ".py",
   "mimetype": "text/x-python",
   "name": "python",
   "nbconvert_exporter": "python",
   "pygments_lexer": "ipython3",
   "version": "3.8.13"
  }
 },
 "nbformat": 4,
 "nbformat_minor": 4
}

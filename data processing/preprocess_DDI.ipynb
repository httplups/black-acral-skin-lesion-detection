{
 "cells": [
  {
   "cell_type": "code",
   "execution_count": 1,
   "metadata": {},
   "outputs": [],
   "source": [
    "import pandas as pd\n",
    "import shutil\n",
    "import os"
   ]
  },
  {
   "cell_type": "code",
   "execution_count": 2,
   "metadata": {},
   "outputs": [],
   "source": [
    "SOURCE_DATA_PATH = '../datasets/raw/ddidiversedermatologyimages/'\n",
    "DESTINATION_DATASET_PATH = '../datasets/processed/ddidiversedermatologyimages/'"
   ]
  },
  {
   "cell_type": "code",
   "execution_count": 3,
   "metadata": {},
   "outputs": [],
   "source": [
    "if not os.path.exists(DESTINATION_DATASET_PATH):\n",
    "\n",
    "    # if the demo_folder directory is not present\n",
    "    # then create it\n",
    "    os.makedirs(DESTINATION_DATASET_PATH, exist_ok=True)\n",
    "\n",
    "if not os.path.exists(DESTINATION_DATASET_PATH + 'melanoma'):\n",
    "\n",
    "    # if the demo_folder directory is not present\n",
    "    # then create it\n",
    "    os.makedirs(DESTINATION_DATASET_PATH + 'melanoma', exist_ok=True)\n",
    "\n",
    "if not os.path.exists(DESTINATION_DATASET_PATH + 'benign'):\n",
    "\n",
    "    # if the demo_folder directory is not present\n",
    "    # then create it\n",
    "    os.makedirs(DESTINATION_DATASET_PATH + 'benign', exist_ok=True)"
   ]
  },
  {
   "attachments": {},
   "cell_type": "markdown",
   "metadata": {},
   "source": [
    "EDA"
   ]
  },
  {
   "cell_type": "code",
   "execution_count": 5,
   "metadata": {},
   "outputs": [],
   "source": [
    "df = pd.read_csv(SOURCE_DATA_PATH + 'ddi_metadata.csv')"
   ]
  },
  {
   "cell_type": "code",
   "execution_count": 6,
   "metadata": {},
   "outputs": [
    {
     "data": {
      "text/html": [
       "<div>\n",
       "<style scoped>\n",
       "    .dataframe tbody tr th:only-of-type {\n",
       "        vertical-align: middle;\n",
       "    }\n",
       "\n",
       "    .dataframe tbody tr th {\n",
       "        vertical-align: top;\n",
       "    }\n",
       "\n",
       "    .dataframe thead th {\n",
       "        text-align: right;\n",
       "    }\n",
       "</style>\n",
       "<table border=\"1\" class=\"dataframe\">\n",
       "  <thead>\n",
       "    <tr style=\"text-align: right;\">\n",
       "      <th></th>\n",
       "      <th>DDI_ID</th>\n",
       "      <th>DDI_file</th>\n",
       "      <th>skin_tone</th>\n",
       "      <th>malignant</th>\n",
       "      <th>disease</th>\n",
       "    </tr>\n",
       "  </thead>\n",
       "  <tbody>\n",
       "    <tr>\n",
       "      <th>0</th>\n",
       "      <td>1</td>\n",
       "      <td>000001.png</td>\n",
       "      <td>56</td>\n",
       "      <td>True</td>\n",
       "      <td>melanoma-in-situ</td>\n",
       "    </tr>\n",
       "    <tr>\n",
       "      <th>1</th>\n",
       "      <td>2</td>\n",
       "      <td>000002.png</td>\n",
       "      <td>56</td>\n",
       "      <td>True</td>\n",
       "      <td>melanoma-in-situ</td>\n",
       "    </tr>\n",
       "    <tr>\n",
       "      <th>2</th>\n",
       "      <td>3</td>\n",
       "      <td>000003.png</td>\n",
       "      <td>56</td>\n",
       "      <td>True</td>\n",
       "      <td>mycosis-fungoides</td>\n",
       "    </tr>\n",
       "    <tr>\n",
       "      <th>3</th>\n",
       "      <td>4</td>\n",
       "      <td>000004.png</td>\n",
       "      <td>56</td>\n",
       "      <td>True</td>\n",
       "      <td>squamous-cell-carcinoma-in-situ</td>\n",
       "    </tr>\n",
       "    <tr>\n",
       "      <th>4</th>\n",
       "      <td>5</td>\n",
       "      <td>000005.png</td>\n",
       "      <td>12</td>\n",
       "      <td>True</td>\n",
       "      <td>basal-cell-carcinoma</td>\n",
       "    </tr>\n",
       "  </tbody>\n",
       "</table>\n",
       "</div>"
      ],
      "text/plain": [
       "   DDI_ID    DDI_file  skin_tone  malignant                          disease\n",
       "0       1  000001.png         56       True                 melanoma-in-situ\n",
       "1       2  000002.png         56       True                 melanoma-in-situ\n",
       "2       3  000003.png         56       True                mycosis-fungoides\n",
       "3       4  000004.png         56       True  squamous-cell-carcinoma-in-situ\n",
       "4       5  000005.png         12       True             basal-cell-carcinoma"
      ]
     },
     "execution_count": 6,
     "metadata": {},
     "output_type": "execute_result"
    }
   ],
   "source": [
    "df = df.loc[:, ~df.columns.str.contains('^Unnamed')]\n",
    "df.head()"
   ]
  },
  {
   "cell_type": "code",
   "execution_count": 8,
   "metadata": {},
   "outputs": [
    {
     "data": {
      "text/plain": [
       "Index(['DDI_ID', 'DDI_file', 'skin_tone', 'malignant', 'disease'], dtype='object')"
      ]
     },
     "execution_count": 8,
     "metadata": {},
     "output_type": "execute_result"
    }
   ],
   "source": [
    "df.columns"
   ]
  },
  {
   "cell_type": "code",
   "execution_count": 7,
   "metadata": {},
   "outputs": [
    {
     "data": {
      "text/plain": [
       "array(['melanoma-in-situ', 'mycosis-fungoides',\n",
       "       'squamous-cell-carcinoma-in-situ', 'basal-cell-carcinoma',\n",
       "       'squamous-cell-carcinoma', 'melanoma-acral-lentiginous',\n",
       "       'basal-cell-carcinoma-superficial',\n",
       "       'squamous-cell-carcinoma-keratoacanthoma',\n",
       "       'subcutaneous-t-cell-lymphoma', 'basal-cell-carcinoma-nodular',\n",
       "       'kaposi-sarcoma', 'metastatic-carcinoma', 'melanoma',\n",
       "       'atypical-spindle-cell-nevus-of-reed', 'nodular-melanoma-(nm)',\n",
       "       'leukemia-cutis', 'sebaceous-carcinoma',\n",
       "       'blastic-plasmacytoid-dendritic-cell-neoplasm'], dtype=object)"
      ]
     },
     "execution_count": 7,
     "metadata": {},
     "output_type": "execute_result"
    }
   ],
   "source": [
    "df[df.malignant].disease.unique()"
   ]
  },
  {
   "cell_type": "code",
   "execution_count": 9,
   "metadata": {},
   "outputs": [],
   "source": [
    "is_melanoma = df.disease.apply(lambda x: 'melanoma' in x)\n",
    "df['label'] = is_melanoma.values.astype(int)"
   ]
  },
  {
   "cell_type": "code",
   "execution_count": 10,
   "metadata": {},
   "outputs": [],
   "source": [
    "# removing other malignant skin lesions besides Melanoma\n",
    "malignant_not_mel = df[(df.malignant == True) & (df.label == 0)].index\n",
    "df.drop(index=malignant_not_mel, inplace=True)"
   ]
  },
  {
   "cell_type": "code",
   "execution_count": 12,
   "metadata": {},
   "outputs": [
    {
     "data": {
      "text/html": [
       "<div>\n",
       "<style scoped>\n",
       "    .dataframe tbody tr th:only-of-type {\n",
       "        vertical-align: middle;\n",
       "    }\n",
       "\n",
       "    .dataframe tbody tr th {\n",
       "        vertical-align: top;\n",
       "    }\n",
       "\n",
       "    .dataframe thead th {\n",
       "        text-align: right;\n",
       "    }\n",
       "</style>\n",
       "<table border=\"1\" class=\"dataframe\">\n",
       "  <thead>\n",
       "    <tr style=\"text-align: right;\">\n",
       "      <th></th>\n",
       "      <th>DDI_ID</th>\n",
       "      <th>DDI_file</th>\n",
       "      <th>skin_tone</th>\n",
       "      <th>malignant</th>\n",
       "      <th>disease</th>\n",
       "      <th>label</th>\n",
       "    </tr>\n",
       "  </thead>\n",
       "  <tbody>\n",
       "    <tr>\n",
       "      <th>0</th>\n",
       "      <td>1</td>\n",
       "      <td>000001.png</td>\n",
       "      <td>56</td>\n",
       "      <td>True</td>\n",
       "      <td>melanoma-in-situ</td>\n",
       "      <td>1</td>\n",
       "    </tr>\n",
       "    <tr>\n",
       "      <th>1</th>\n",
       "      <td>2</td>\n",
       "      <td>000002.png</td>\n",
       "      <td>56</td>\n",
       "      <td>True</td>\n",
       "      <td>melanoma-in-situ</td>\n",
       "      <td>1</td>\n",
       "    </tr>\n",
       "    <tr>\n",
       "      <th>6</th>\n",
       "      <td>7</td>\n",
       "      <td>000007.png</td>\n",
       "      <td>56</td>\n",
       "      <td>True</td>\n",
       "      <td>melanoma-acral-lentiginous</td>\n",
       "      <td>1</td>\n",
       "    </tr>\n",
       "    <tr>\n",
       "      <th>7</th>\n",
       "      <td>8</td>\n",
       "      <td>000008.png</td>\n",
       "      <td>56</td>\n",
       "      <td>True</td>\n",
       "      <td>melanoma-in-situ</td>\n",
       "      <td>1</td>\n",
       "    </tr>\n",
       "    <tr>\n",
       "      <th>8</th>\n",
       "      <td>9</td>\n",
       "      <td>000009.png</td>\n",
       "      <td>56</td>\n",
       "      <td>True</td>\n",
       "      <td>melanoma-acral-lentiginous</td>\n",
       "      <td>1</td>\n",
       "    </tr>\n",
       "  </tbody>\n",
       "</table>\n",
       "</div>"
      ],
      "text/plain": [
       "   DDI_ID    DDI_file  skin_tone  malignant                     disease  label\n",
       "0       1  000001.png         56       True            melanoma-in-situ      1\n",
       "1       2  000002.png         56       True            melanoma-in-situ      1\n",
       "6       7  000007.png         56       True  melanoma-acral-lentiginous      1\n",
       "7       8  000008.png         56       True            melanoma-in-situ      1\n",
       "8       9  000009.png         56       True  melanoma-acral-lentiginous      1"
      ]
     },
     "execution_count": 12,
     "metadata": {},
     "output_type": "execute_result"
    }
   ],
   "source": [
    "df.head()"
   ]
  },
  {
   "cell_type": "code",
   "execution_count": 11,
   "metadata": {},
   "outputs": [
    {
     "data": {
      "text/plain": [
       "(506, 6)"
      ]
     },
     "execution_count": 11,
     "metadata": {},
     "output_type": "execute_result"
    }
   ],
   "source": [
    "df.shape"
   ]
  },
  {
   "attachments": {},
   "cell_type": "markdown",
   "metadata": {},
   "source": [
    "Moving filtered data"
   ]
  },
  {
   "cell_type": "code",
   "execution_count": 13,
   "metadata": {},
   "outputs": [],
   "source": [
    "benign_imgs = df[df.label == 0].DDI_file.values\n",
    "mel_imgs = df[df.label == 1].DDI_file.values"
   ]
  },
  {
   "cell_type": "code",
   "execution_count": 15,
   "metadata": {},
   "outputs": [],
   "source": [
    "for img_path in benign_imgs:\n",
    "    shutil.copy(SOURCE_DATA_PATH + img_path, DESTINATION_DATASET_PATH + 'benign/')\n",
    "\n",
    "for img_path in mel_imgs:\n",
    "    shutil.copy(SOURCE_DATA_PATH + img_path, DESTINATION_DATASET_PATH + 'melanoma/')"
   ]
  },
  {
   "cell_type": "code",
   "execution_count": 16,
   "metadata": {},
   "outputs": [],
   "source": [
    "df['is_dermoscopic'] = False\n",
    "df['lesion_filename'] = df.DDI_file.apply(lambda x: DESTINATION_DATASET_PATH[3:] + '{}/'.format('melanoma' if x in mel_imgs else 'benign') + x)"
   ]
  },
  {
   "cell_type": "code",
   "execution_count": 19,
   "metadata": {},
   "outputs": [
    {
     "data": {
      "text/html": [
       "<div>\n",
       "<style scoped>\n",
       "    .dataframe tbody tr th:only-of-type {\n",
       "        vertical-align: middle;\n",
       "    }\n",
       "\n",
       "    .dataframe tbody tr th {\n",
       "        vertical-align: top;\n",
       "    }\n",
       "\n",
       "    .dataframe thead th {\n",
       "        text-align: right;\n",
       "    }\n",
       "</style>\n",
       "<table border=\"1\" class=\"dataframe\">\n",
       "  <thead>\n",
       "    <tr style=\"text-align: right;\">\n",
       "      <th></th>\n",
       "      <th>DDI_ID</th>\n",
       "      <th>DDI_file</th>\n",
       "      <th>skin_tone</th>\n",
       "      <th>malignant</th>\n",
       "      <th>disease</th>\n",
       "      <th>label</th>\n",
       "      <th>is_dermoscopic</th>\n",
       "      <th>lesion_filename</th>\n",
       "    </tr>\n",
       "  </thead>\n",
       "  <tbody>\n",
       "    <tr>\n",
       "      <th>570</th>\n",
       "      <td>571</td>\n",
       "      <td>000571.png</td>\n",
       "      <td>34</td>\n",
       "      <td>False</td>\n",
       "      <td>melanocytic-nevi</td>\n",
       "      <td>0</td>\n",
       "      <td>False</td>\n",
       "      <td>datasets/processed/ddidiversedermatologyimages...</td>\n",
       "    </tr>\n",
       "    <tr>\n",
       "      <th>623</th>\n",
       "      <td>624</td>\n",
       "      <td>000624.png</td>\n",
       "      <td>34</td>\n",
       "      <td>False</td>\n",
       "      <td>melanocytic-nevi</td>\n",
       "      <td>0</td>\n",
       "      <td>False</td>\n",
       "      <td>datasets/processed/ddidiversedermatologyimages...</td>\n",
       "    </tr>\n",
       "    <tr>\n",
       "      <th>355</th>\n",
       "      <td>356</td>\n",
       "      <td>000356.png</td>\n",
       "      <td>12</td>\n",
       "      <td>False</td>\n",
       "      <td>epidermal-cyst</td>\n",
       "      <td>0</td>\n",
       "      <td>False</td>\n",
       "      <td>datasets/processed/ddidiversedermatologyimages...</td>\n",
       "    </tr>\n",
       "    <tr>\n",
       "      <th>233</th>\n",
       "      <td>234</td>\n",
       "      <td>000234.png</td>\n",
       "      <td>56</td>\n",
       "      <td>False</td>\n",
       "      <td>lipoma</td>\n",
       "      <td>0</td>\n",
       "      <td>False</td>\n",
       "      <td>datasets/processed/ddidiversedermatologyimages...</td>\n",
       "    </tr>\n",
       "    <tr>\n",
       "      <th>279</th>\n",
       "      <td>280</td>\n",
       "      <td>000280.png</td>\n",
       "      <td>12</td>\n",
       "      <td>False</td>\n",
       "      <td>melanocytic-nevi</td>\n",
       "      <td>0</td>\n",
       "      <td>False</td>\n",
       "      <td>datasets/processed/ddidiversedermatologyimages...</td>\n",
       "    </tr>\n",
       "    <tr>\n",
       "      <th>42</th>\n",
       "      <td>43</td>\n",
       "      <td>000043.png</td>\n",
       "      <td>12</td>\n",
       "      <td>True</td>\n",
       "      <td>melanoma-acral-lentiginous</td>\n",
       "      <td>1</td>\n",
       "      <td>False</td>\n",
       "      <td>datasets/processed/ddidiversedermatologyimages...</td>\n",
       "    </tr>\n",
       "    <tr>\n",
       "      <th>205</th>\n",
       "      <td>206</td>\n",
       "      <td>000206.png</td>\n",
       "      <td>56</td>\n",
       "      <td>False</td>\n",
       "      <td>melanocytic-nevi</td>\n",
       "      <td>0</td>\n",
       "      <td>False</td>\n",
       "      <td>datasets/processed/ddidiversedermatologyimages...</td>\n",
       "    </tr>\n",
       "    <tr>\n",
       "      <th>61</th>\n",
       "      <td>62</td>\n",
       "      <td>000062.png</td>\n",
       "      <td>34</td>\n",
       "      <td>False</td>\n",
       "      <td>seborrheic-keratosis-irritated</td>\n",
       "      <td>0</td>\n",
       "      <td>False</td>\n",
       "      <td>datasets/processed/ddidiversedermatologyimages...</td>\n",
       "    </tr>\n",
       "    <tr>\n",
       "      <th>513</th>\n",
       "      <td>514</td>\n",
       "      <td>000514.png</td>\n",
       "      <td>34</td>\n",
       "      <td>False</td>\n",
       "      <td>angioma</td>\n",
       "      <td>0</td>\n",
       "      <td>False</td>\n",
       "      <td>datasets/processed/ddidiversedermatologyimages...</td>\n",
       "    </tr>\n",
       "    <tr>\n",
       "      <th>0</th>\n",
       "      <td>1</td>\n",
       "      <td>000001.png</td>\n",
       "      <td>56</td>\n",
       "      <td>True</td>\n",
       "      <td>melanoma-in-situ</td>\n",
       "      <td>1</td>\n",
       "      <td>False</td>\n",
       "      <td>datasets/processed/ddidiversedermatologyimages...</td>\n",
       "    </tr>\n",
       "    <tr>\n",
       "      <th>148</th>\n",
       "      <td>149</td>\n",
       "      <td>000149.png</td>\n",
       "      <td>56</td>\n",
       "      <td>False</td>\n",
       "      <td>hematoma</td>\n",
       "      <td>0</td>\n",
       "      <td>False</td>\n",
       "      <td>datasets/processed/ddidiversedermatologyimages...</td>\n",
       "    </tr>\n",
       "    <tr>\n",
       "      <th>139</th>\n",
       "      <td>140</td>\n",
       "      <td>000140.png</td>\n",
       "      <td>56</td>\n",
       "      <td>False</td>\n",
       "      <td>acrochordon</td>\n",
       "      <td>0</td>\n",
       "      <td>False</td>\n",
       "      <td>datasets/processed/ddidiversedermatologyimages...</td>\n",
       "    </tr>\n",
       "    <tr>\n",
       "      <th>186</th>\n",
       "      <td>187</td>\n",
       "      <td>000187.png</td>\n",
       "      <td>56</td>\n",
       "      <td>False</td>\n",
       "      <td>seborrheic-keratosis-irritated</td>\n",
       "      <td>0</td>\n",
       "      <td>False</td>\n",
       "      <td>datasets/processed/ddidiversedermatologyimages...</td>\n",
       "    </tr>\n",
       "    <tr>\n",
       "      <th>552</th>\n",
       "      <td>553</td>\n",
       "      <td>000553.png</td>\n",
       "      <td>34</td>\n",
       "      <td>False</td>\n",
       "      <td>nevus-lipomatosus-superficialis</td>\n",
       "      <td>0</td>\n",
       "      <td>False</td>\n",
       "      <td>datasets/processed/ddidiversedermatologyimages...</td>\n",
       "    </tr>\n",
       "    <tr>\n",
       "      <th>192</th>\n",
       "      <td>193</td>\n",
       "      <td>000193.png</td>\n",
       "      <td>56</td>\n",
       "      <td>False</td>\n",
       "      <td>verruca-vulgaris</td>\n",
       "      <td>0</td>\n",
       "      <td>False</td>\n",
       "      <td>datasets/processed/ddidiversedermatologyimages...</td>\n",
       "    </tr>\n",
       "  </tbody>\n",
       "</table>\n",
       "</div>"
      ],
      "text/plain": [
       "     DDI_ID    DDI_file  skin_tone  malignant  \\\n",
       "570     571  000571.png         34      False   \n",
       "623     624  000624.png         34      False   \n",
       "355     356  000356.png         12      False   \n",
       "233     234  000234.png         56      False   \n",
       "279     280  000280.png         12      False   \n",
       "42       43  000043.png         12       True   \n",
       "205     206  000206.png         56      False   \n",
       "61       62  000062.png         34      False   \n",
       "513     514  000514.png         34      False   \n",
       "0         1  000001.png         56       True   \n",
       "148     149  000149.png         56      False   \n",
       "139     140  000140.png         56      False   \n",
       "186     187  000187.png         56      False   \n",
       "552     553  000553.png         34      False   \n",
       "192     193  000193.png         56      False   \n",
       "\n",
       "                             disease  label  is_dermoscopic  \\\n",
       "570                 melanocytic-nevi      0           False   \n",
       "623                 melanocytic-nevi      0           False   \n",
       "355                   epidermal-cyst      0           False   \n",
       "233                           lipoma      0           False   \n",
       "279                 melanocytic-nevi      0           False   \n",
       "42        melanoma-acral-lentiginous      1           False   \n",
       "205                 melanocytic-nevi      0           False   \n",
       "61    seborrheic-keratosis-irritated      0           False   \n",
       "513                          angioma      0           False   \n",
       "0                   melanoma-in-situ      1           False   \n",
       "148                         hematoma      0           False   \n",
       "139                      acrochordon      0           False   \n",
       "186   seborrheic-keratosis-irritated      0           False   \n",
       "552  nevus-lipomatosus-superficialis      0           False   \n",
       "192                 verruca-vulgaris      0           False   \n",
       "\n",
       "                                       lesion_filename  \n",
       "570  datasets/processed/ddidiversedermatologyimages...  \n",
       "623  datasets/processed/ddidiversedermatologyimages...  \n",
       "355  datasets/processed/ddidiversedermatologyimages...  \n",
       "233  datasets/processed/ddidiversedermatologyimages...  \n",
       "279  datasets/processed/ddidiversedermatologyimages...  \n",
       "42   datasets/processed/ddidiversedermatologyimages...  \n",
       "205  datasets/processed/ddidiversedermatologyimages...  \n",
       "61   datasets/processed/ddidiversedermatologyimages...  \n",
       "513  datasets/processed/ddidiversedermatologyimages...  \n",
       "0    datasets/processed/ddidiversedermatologyimages...  \n",
       "148  datasets/processed/ddidiversedermatologyimages...  \n",
       "139  datasets/processed/ddidiversedermatologyimages...  \n",
       "186  datasets/processed/ddidiversedermatologyimages...  \n",
       "552  datasets/processed/ddidiversedermatologyimages...  \n",
       "192  datasets/processed/ddidiversedermatologyimages...  "
      ]
     },
     "execution_count": 19,
     "metadata": {},
     "output_type": "execute_result"
    }
   ],
   "source": [
    "df.sample(15)"
   ]
  },
  {
   "cell_type": "code",
   "execution_count": 20,
   "metadata": {},
   "outputs": [],
   "source": [
    "# save metadata\n",
    "df.to_csv(DESTINATION_DATASET_PATH + 'metadata.csv', index=False)"
   ]
  },
  {
   "cell_type": "code",
   "execution_count": null,
   "metadata": {},
   "outputs": [],
   "source": []
  }
 ],
 "metadata": {
  "kernelspec": {
   "display_name": "Python 3 (ipykernel)",
   "language": "python",
   "name": "python3"
  },
  "language_info": {
   "codemirror_mode": {
    "name": "ipython",
    "version": 3
   },
   "file_extension": ".py",
   "mimetype": "text/x-python",
   "name": "python",
   "nbconvert_exporter": "python",
   "pygments_lexer": "ipython3",
   "version": "3.8.13"
  }
 },
 "nbformat": 4,
 "nbformat_minor": 4
}
